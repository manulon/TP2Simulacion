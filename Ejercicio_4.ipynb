{
  "nbformat": 4,
  "nbformat_minor": 0,
  "metadata": {
    "colab": {
      "name": "Ejercicio 4.ipynb",
      "provenance": [],
      "collapsed_sections": [],
      "authorship_tag": "ABX9TyMUztEhpQWVp3x2FH6L5Qs3",
      "include_colab_link": true
    },
    "kernelspec": {
      "name": "python3",
      "display_name": "Python 3"
    },
    "language_info": {
      "name": "python"
    }
  },
  "cells": [
    {
      "cell_type": "markdown",
      "metadata": {
        "id": "view-in-github",
        "colab_type": "text"
      },
      "source": [
        "<a href=\"https://colab.research.google.com/github/manulon/TP2Simulacion/blob/main/Ejercicio_4.ipynb\" target=\"_parent\"><img src=\"https://colab.research.google.com/assets/colab-badge.svg\" alt=\"Open In Colab\"/></a>"
      ]
    },
    {
      "cell_type": "markdown",
      "metadata": {
        "id": "AX_0Eg1PS2i6"
      },
      "source": [
        "#EJERCICIO 4"
      ]
    },
    {
      "cell_type": "markdown",
      "metadata": {
        "id": "UbTxNFqjS56h"
      },
      "source": [
        "Implementar las dos alternativas del ejercicio 1 utilizando SimPy"
      ]
    },
    {
      "cell_type": "code",
      "metadata": {
        "colab": {
          "base_uri": "https://localhost:8080/"
        },
        "id": "vovlz830Sw8c",
        "outputId": "6c2ba91d-6ec7-49c6-9e58-ee978b8db212"
      },
      "source": [
        "!pip install simpy\n",
        "import simpy\n",
        "import numpy as np\n",
        "import random\n"
      ],
      "execution_count": 2,
      "outputs": [
        {
          "output_type": "stream",
          "text": [
            "Requirement already satisfied: simpy in /usr/local/lib/python3.7/dist-packages (4.0.1)\n"
          ],
          "name": "stdout"
        }
      ]
    },
    {
      "cell_type": "markdown",
      "metadata": {
        "id": "qrScKO-ndahU"
      },
      "source": [
        "## Alternativa 1 (Bases Distribuidas)"
      ]
    },
    {
      "cell_type": "code",
      "metadata": {
        "id": "5_7dgM2KdeHr"
      },
      "source": [
        "class llamada:\n",
        "\tdef __init__(self,env,tiemposLlamadas):\n",
        "\t\tself.env = env\n",
        "\t\tself.demora = []\n",
        "\t\tself.call_proc = env.process(self.calcular_demora(tiemposLlamadas))\n",
        "\n",
        "\tdef dividirMuestrasPorBase(self,tiemposMuestras):\n",
        "\t\ttiemposMuestrasPorBase = {}\n",
        "\t\ttiemposMuestrasPorBase[0] = []\n",
        "\t\ttiemposMuestrasPorBase[1] = []\n",
        "\t\tfor muestra in tiemposMuestras:\n",
        "\t\t\tu = np.random.rand()\n",
        "\t\t\tif u < 0.6:\n",
        "\t\t\t\tbase = 0\n",
        "\t\t\telse:\n",
        "\t\t\t\tbase = 1\n",
        "\t\t\ttiemposMuestrasPorBase[base].append(muestra)\n",
        "\t\treturn tiemposMuestrasPorBase\n",
        "\n",
        "\tdef calcular_demora(self,tiemposMuestras):\n",
        "\t\tmuestrasPorBase = self.dividirMuestrasPorBase(tiemposMuestras)\n",
        "\t\ttiemposMuestrasB1 = muestrasPorBase[0]\n",
        "\t\ttiemposMuestrasB2 = muestrasPorBase[1]\n",
        "\n",
        "\t\ttiemposEsperaB1 = np.random.exponential(0.7, len(tiemposMuestrasB1))\n",
        "\t\tdemoraBase1 = self.env.process(self.llamar(tiemposMuestrasB1, tiemposEsperaB1, len(tiemposMuestrasB1)))\t\t\n",
        "\n",
        "\t\ttiemposEsperaB2 = np.random.exponential(0.95, len(tiemposMuestrasB2))\n",
        "\t\tdemoraBase2 = self.env.process(self.llamar(tiemposMuestrasB2, tiemposEsperaB2, len(tiemposMuestrasB2)))\n",
        "\t\t\n",
        "\t\tyield demoraBase2 & demoraBase1 #Bases distribuidas!!! Se ejecutan a la vez.\n",
        "\n",
        "\t\tprint(\"El tiempo total en horas es: \"+ str(env.now/3600))\n",
        "\t\tprint(\"El promedio del tiempo de demora entre que llega una solicitud y puede ser procesada es {:.3f} \".format(self.demora.mean()))\n",
        "\t\tprint(\"La fraccion de las solicitudes que no esperaron es: {:.3f}\".format((100000 - np.count_nonzero(self.demora))/100000))\n",
        "\t\tprint(\"La tasa de finalizacion de consultas por segundo es: {:.3f}\\n\".format(100000/(env.now)))\n",
        "\n",
        "\tdef llamar(self,tiemposLlamadas,duracionLlamadas,n):\n",
        "\t\ttiemposEsperaFinal = np.zeros(n)\n",
        "\t\ttiempoDeEsperaAnterior = 0\n",
        "\t\tj = 1\n",
        "\t\tyield self.env.timeout(duracionLlamadas[0])\n",
        "\n",
        "\t\twhile j < n:\n",
        "\t\t\tdeltaT = tiemposLlamadas[j] - tiemposLlamadas[j - 1] - tiempoDeEsperaAnterior\n",
        "\t\t\ttiempoDeEspera = duracionLlamadas[j - 1] - deltaT\n",
        "\t\t\tif tiempoDeEspera <= 0:\n",
        "\t\t\t\ttiempoDeEspera = 0\n",
        "\n",
        "\t\t\tyield self.env.timeout(duracionLlamadas[j])\n",
        "\t\t\tif j != (n-1):\n",
        "\t\t\t\tdeltaT2 = tiemposLlamadas[j+1] - (tiemposLlamadas[j] + duracionLlamadas[j] + tiempoDeEspera)\n",
        "\t\t\t\tif deltaT2 > 0:\n",
        "\t\t\t\t\tyield self.env.timeout(deltaT2)\n",
        "\n",
        "\t\t\ttiemposEsperaFinal[j] = tiempoDeEspera\n",
        "\t\t\ttiempoDeEsperaAnterior = tiempoDeEspera\n",
        "\t\t\tj += 1\n",
        "\t\tself.demora = np.concatenate((self.demora, tiemposEsperaFinal))\n"
      ],
      "execution_count": 5,
      "outputs": []
    },
    {
      "cell_type": "code",
      "metadata": {
        "colab": {
          "base_uri": "https://localhost:8080/"
        },
        "id": "z3ebJ6FYdePm",
        "outputId": "f578e5f7-664b-4998-9989-4316608e3579"
      },
      "source": [
        "\n",
        "print(\"ALTERNATIVA 1\\n\")\n",
        "\n",
        "print(\"Mu = 1\\n\")\n",
        "z_llamadas = np.random.exponential(1, 100000)\n",
        "tiemposLlamadas = np.concatenate(([0], np.cumsum(z_llamadas)), axis=None)\n",
        "\n",
        "env = simpy.Environment()\n",
        "my_llamada = llamada(env,tiemposLlamadas)\n",
        "env.run()\n",
        "\n",
        "print(\"---------------------------------------\")\n",
        "print(\"Mu = 2\\n\")\n",
        "z_llamadas = np.random.exponential(2, 100000)\n",
        "tiemposLlamadas = np.concatenate(([0], np.cumsum(z_llamadas)), axis=None)\n",
        "\n",
        "env = simpy.Environment()\n",
        "my_llamada = llamada(env,tiemposLlamadas)\n",
        "env.run()\n",
        "\n",
        "print(\"---------------------------------------\")\n",
        "print(\"Mu = 4\\n\")\n",
        "z_llamadas = np.random.exponential(4, 100000)\n",
        "tiemposLlamadas = np.concatenate(([0], np.cumsum(z_llamadas)), axis=None)\n",
        "\n",
        "env = simpy.Environment()\n",
        "my_llamada = llamada(env,tiemposLlamadas)\n",
        "env.run()"
      ],
      "execution_count": 6,
      "outputs": [
        {
          "output_type": "stream",
          "text": [
            "ALTERNATIVA 1\n",
            "\n",
            "Mu = 1\n",
            "\n",
            "El tiempo total en horas es: 27.829554226000656\n",
            "El promedio del tiempo de demora entre que llega una solicitud y puede ser procesada es 0.522 \n",
            "La fraccion de las solicitudes que no esperaron es: 0.598\n",
            "La tasa de finalizacion de consultas por segundo es: 0.998\n",
            "\n",
            "---------------------------------------\n",
            "Mu = 2\n",
            "\n",
            "El tiempo total en horas es: 55.81295719039706\n",
            "El promedio del tiempo de demora entre que llega una solicitud y puede ser procesada es 0.204 \n",
            "La fraccion de las solicitudes que no esperaron es: 0.798\n",
            "La tasa de finalizacion de consultas por segundo es: 0.498\n",
            "\n",
            "---------------------------------------\n",
            "Mu = 4\n",
            "\n",
            "El tiempo total en horas es: 111.30887050668834\n",
            "El promedio del tiempo de demora entre que llega una solicitud y puede ser procesada es 0.089 \n",
            "La fraccion de las solicitudes que no esperaron es: 0.899\n",
            "La tasa de finalizacion de consultas por segundo es: 0.250\n",
            "\n"
          ],
          "name": "stdout"
        }
      ]
    },
    {
      "cell_type": "markdown",
      "metadata": {
        "id": "WYMddxAKS_mY"
      },
      "source": [
        "## Alternativa 2 (Base Central)"
      ]
    },
    {
      "cell_type": "code",
      "metadata": {
        "id": "AihwiVHqTGPL"
      },
      "source": [
        "\n",
        "class llamada:\n",
        "  def __init__(self,env,tiemposLlamadas,duracionLlamadas):\n",
        "    self.env = env\n",
        "    self.call_proc = env.process(self.llamar(tiemposLlamadas,duracionLlamadas))\n",
        "\n",
        "  def llamar(self,tiemposLlamadas,duracionLlamadas):\n",
        "    n = 100000\n",
        "    tiemposEsperaFinal = np.zeros(n)\n",
        "    tiempoDeEsperaAnterior = 0\n",
        "    j = 1\n",
        "    yield self.env.timeout(duracionLlamadas[0])\n",
        "\n",
        "    while j < n:\n",
        "      deltaT = tiemposLlamadas[j] - tiemposLlamadas[j - 1] - tiempoDeEsperaAnterior\n",
        "      tiempoDeEspera = duracionLlamadas[j - 1] - deltaT\n",
        "      if tiempoDeEspera <= 0:\n",
        "        tiempoDeEspera = 0\n",
        "\n",
        "      yield self.env.timeout(duracionLlamadas[j])\n",
        "      if j != (n-1):\n",
        "        deltaT2 = tiemposLlamadas[j+1] - (tiemposLlamadas[j] + duracionLlamadas[j] + tiempoDeEspera)\n",
        "        if deltaT2 > 0:\n",
        "          yield self.env.timeout(deltaT2)\n",
        "\n",
        "      tiemposEsperaFinal[j] = tiempoDeEspera\n",
        "      tiempoDeEsperaAnterior = tiempoDeEspera\n",
        "      j += 1\n",
        "\n",
        "    print(\"El tiempo total en horas es: \"+ str(env.now/3600))\n",
        "    print(\"El promedio del tiempo de demora entre que llega una solicitud y puede ser procesada es {:.3f} \".format(tiemposEsperaFinal.mean()))\n",
        "    print(\"La fraccion de las solicitudes que no esperaron es: {:.3f}\".format((n - np.count_nonzero(tiemposEsperaFinal))/n))\n",
        "    print(\"La tasa de finalizacion de consultas por segundo es: {:.3f}\\n\".format(n/(env.now)))"
      ],
      "execution_count": 3,
      "outputs": []
    },
    {
      "cell_type": "code",
      "metadata": {
        "colab": {
          "base_uri": "https://localhost:8080/"
        },
        "id": "96eqgfvCTKI5",
        "outputId": "7e11773e-ab4d-48ea-f16a-bb485be0a1d6"
      },
      "source": [
        "print(\"ALTERNATIVA 2\\n\")\n",
        "tiemposC2 = np.random.exponential(0.8, 100000)\n",
        "\n",
        "print(\"Mu = 1\\n\")\n",
        "z_llamadas = np.random.exponential(1, 100000)\n",
        "tiemposLlamadas = np.concatenate(([0], np.cumsum(z_llamadas)), axis=None)\n",
        "\n",
        "env = simpy.Environment()\n",
        "my_llamada = llamada(env,tiemposLlamadas,tiemposC2)\n",
        "env.run()\n",
        "\n",
        "print(\"---------------------------------------\")\n",
        "print(\"Mu = 2\\n\")\n",
        "z_llamadas = np.random.exponential(2, 100000)\n",
        "tiemposLlamadas = np.concatenate(([0], np.cumsum(z_llamadas)), axis=None)\n",
        "\n",
        "env = simpy.Environment()\n",
        "my_llamada = llamada(env,tiemposLlamadas,tiemposC2)\n",
        "env.run()\n",
        "\n",
        "print(\"---------------------------------------\")\n",
        "print(\"Mu = 4\\n\")\n",
        "z_llamadas = np.random.exponential(4, 100000)\n",
        "tiemposLlamadas = np.concatenate(([0], np.cumsum(z_llamadas)), axis=None)\n",
        "\n",
        "env = simpy.Environment()\n",
        "my_llamada = llamada(env,tiemposLlamadas,tiemposC2)\n",
        "env.run()"
      ],
      "execution_count": 4,
      "outputs": [
        {
          "output_type": "stream",
          "text": [
            "ALTERNATIVA 2\n",
            "\n",
            "Mu = 1\n",
            "\n",
            "El tiempo total en horas es: 27.77349295147278\n",
            "El promedio del tiempo de demora entre que llega una solicitud y puede ser procesada es 3.205 \n",
            "La fraccion de las solicitudes que no esperaron es: 0.197\n",
            "La tasa de finalizacion de consultas por segundo es: 1.000\n",
            "\n",
            "---------------------------------------\n",
            "Mu = 2\n",
            "\n",
            "El tiempo total en horas es: 55.6056060845947\n",
            "El promedio del tiempo de demora entre que llega una solicitud y puede ser procesada es 0.533 \n",
            "La fraccion de las solicitudes que no esperaron es: 0.602\n",
            "La tasa de finalizacion de consultas por segundo es: 0.500\n",
            "\n",
            "---------------------------------------\n",
            "Mu = 4\n",
            "\n",
            "El tiempo total en horas es: 111.24222825530009\n",
            "El promedio del tiempo de demora entre que llega una solicitud y puede ser procesada es 0.200 \n",
            "La fraccion de las solicitudes que no esperaron es: 0.801\n",
            "La tasa de finalizacion de consultas por segundo es: 0.250\n",
            "\n"
          ],
          "name": "stdout"
        }
      ]
    },
    {
      "cell_type": "markdown",
      "metadata": {
        "id": "Bn094NdCTJmn"
      },
      "source": [
        ""
      ]
    }
  ]
}